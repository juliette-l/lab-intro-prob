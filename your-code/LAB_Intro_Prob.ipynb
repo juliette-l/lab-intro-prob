{
 "cells": [
  {
   "cell_type": "markdown",
   "metadata": {},
   "source": [
    "# Introduction To Probability\n",
    "## Challenge 1\n",
    "\n",
    "A and B are events of a probability space with $(\\omega, \\sigma, P)$ such that $P(A) = 0.3$, $P(B) = 0.6$ and $P(A \\cap B) = 0.1$\n",
    "\n",
    "Which of the following statements are false?\n",
    "* $P(A \\cup B) = 0.6$\n",
    "* $P(A \\cap B^{C}) = 0.2$\n",
    "* $P(A \\cap (B \\cup B^{C})) = 0.4$\n",
    "* $P(A^{C} \\cap B^{C}) = 0.3$\n",
    "* $P((A \\cap B)^{C}) = 0.9$"
   ]
  },
  {
   "cell_type": "code",
   "execution_count": null,
   "metadata": {},
   "outputs": [],
   "source": [
    "\"\"\"\n",
    "your solution here:\n",
    "1. False:\n",
    "P(A ∪ B) = P(A) + P(B) - P(A ∩ B)\n",
    "0.3 + 0.6 - 0.1 = 0.8\n",
    "\n",
    "2. True\n",
    "P (A ∩ B)\n",
    "P(A) = 0.3 P(A B)= 0.1 so A not being B is: 0.3- 0.1= 0.2\n",
    "\n",
    "3. False\n",
    "P(A) = 0.3; P(B U not B) = is everything except A\n",
    "Where the two intersect is P(A), so this includes everything.\n",
    "\n",
    "4. False\n",
    "The intersection between (everything not A) and (everything not B) is the (universe - P(A) + P(B)) - P(A intersect B) = 0.8\n",
    "\n",
    "5. False\n",
    "P(Everything not being A nor B)= 1 - 0.8= 0.2\n",
    "\n",
    "\"\"\""
   ]
  },
  {
   "cell_type": "markdown",
   "metadata": {},
   "source": [
    "## Challenge 2\n",
    "There is a box with 10 white balls, 12 red balls and 8 black balls. Calculate the probability of:\n",
    "* Taking a white ball out.\n",
    "* Taking a white ball out after taking a black ball out.\n",
    "* Taking a red ball out after taking a black and a red ball out.\n",
    "* Taking a red ball out after taking a black and a red ball out with reposition.\n",
    "\n",
    "**Hint**: Reposition means putting back the ball into the box after taking it out."
   ]
  },
  {
   "cell_type": "code",
   "execution_count": null,
   "metadata": {},
   "outputs": [],
   "source": [
    "\"\"\"\n",
    "your solution here\n",
    "\n",
    "White = set([1,2,3,4,5,6,7,8,9,10])\n",
    "Red = set([1,2,3,4,5,6,7,8,9,10,11,12])\n",
    "Black = set([1,2,3,4,5,6,7,8])\n",
    "\n",
    "1. Taking a white ball out\n",
    "Total_n = 30\n",
    "Total_white = 10\n",
    "Probability_white = 10/30 = 33%\n",
    "\n",
    "2. Taking a white ball out after taking a black ball out\n",
    "Total_n = 30\n",
    "Total_n_black = 29\n",
    "Probability_white = 10/29 = 34.5%\n",
    "\n",
    "3. Taking a red ball out after taking a black and a red ball out.\n",
    "Total_n = 30\n",
    "Total_n_black_red = 28\n",
    "total_red = 12-1 = 11\n",
    "Probability_red = 11/28 = 39.3%\n",
    "\n",
    "4. Taking a red ball out after taking a black and a red ball out with reposition.\n",
    "?\n"
   ]
  },
  {
   "cell_type": "markdown",
   "metadata": {},
   "source": [
    "## Challenge 3\n",
    "\n",
    "You are planning to go on a picnic today but the morning is cloudy. You hate rain so you don't know whether to go out or stay home! To help you make a decision, you gather the following data about rainy days:\n",
    "\n",
    "* 50% of all rainy days start off cloudy!\n",
    "* Cloudy mornings are common. About 40% of days start cloudy. \n",
    "* This month is usually dry so only 3 of 30 days (10%) tend to be rainy. \n",
    "\n",
    "What is the chance of rain during the day?"
   ]
  },
  {
   "cell_type": "code",
   "execution_count": null,
   "metadata": {},
   "outputs": [],
   "source": [
    "\"\"\"\n",
    "your solution here:\n",
    "\n",
    "P(rain) given that it´s cloudy P(cloudy) = 0.5 P((A)|(B)) \n",
    "P(cloudy) = 0.4 P(B)\n",
    "P(rainy) = 0.1 P(A)\n",
    "\n",
    "With the given rules:\n",
    "P(A|B) = P(A intersect B)/ P(B)\n",
    "\n",
    "0.5 = P(A intersect B)/0.4\n",
    "\n",
    "P(A intersect B)= 0.4 * 0.5 = 0.2\n",
    "\n",
    "P(A U B) = P(A) + P(B) - P(A intersect B) = 0.1 + 0.4 -0.2 = 0.3\n",
    "\n",
    "The chance that it is going to rain is 30%\n",
    "\n",
    "\"\"\""
   ]
  },
  {
   "cell_type": "markdown",
   "metadata": {},
   "source": [
    "## Challenge 4\n",
    "\n",
    "One thousand people were asked through a telephone survey whether they thought more street lighting is needed at night or not.\n",
    "\n",
    "Out of the 480 men that answered the survey, 324 said yes and 156 said no. On the other hand, out of the 520 women that answered, 351 said yes and 169 said no. \n",
    "\n",
    "We wonder if men and women have a different opinions about the street lighting matter. Is gender relevant or irrelevant to the question?\n",
    "\n",
    "Consider the following events:\n",
    "- The answer is yes, so the person that answered thinks that more street lighting is needed.\n",
    "- The person who answered is a man.\n",
    "\n",
    "We want to know if these events are independent, that is, if the fact of wanting more light depends on whether one is male or female. Are these events independent or not?\n",
    "\n",
    "**Hint**: To clearly compare the answers by gender, it is best to place the data in a table."
   ]
  },
  {
   "cell_type": "code",
   "execution_count": 4,
   "metadata": {},
   "outputs": [
    {
     "name": "stdout",
     "output_type": "stream",
     "text": [
      "0.675\n",
      "0.325\n",
      "0.675\n",
      "0.325\n",
      "0.48\n",
      "0.675\n"
     ]
    }
   ],
   "source": [
    "# your code here\n",
    "\n",
    "men_yes = 324/480\n",
    "men_no =156/480\n",
    "\n",
    "print(men_yes)\n",
    "print(men_no)\n",
    "\n",
    "women_yes = 351/520\n",
    "women_no = 169/520\n",
    "\n",
    "print(women_yes)\n",
    "print(women_no)\n",
    "\n",
    "gender_man = 480/1000\n",
    "print(gender_man)\n",
    "\n",
    "total_yes = 675/1000\n",
    "print(total_yes)"
   ]
  },
  {
   "cell_type": "code",
   "execution_count": null,
   "metadata": {},
   "outputs": [],
   "source": [
    "\"\"\"\n",
    "your solution here\n",
    "\n",
    "For dependent variables, there are the following rules:\n",
    "P(A|B) = P(A intersect B)/ P(B)\n",
    "P(A U B) = P(A) + P(B) - P(A intersect B)\n",
    "\n",
    "For independent variables\n",
    "P(A intersect B)= P(A) * P(B)\n",
    "\n",
    "Given information:\n",
    "The answer is yes, so the person that answered thinks that more street lighting is needed.\n",
    "The person who answered is a man.\n",
    "\n",
    "P(A) = yes = 0.675\n",
    "P(B) = man = 0.46\n",
    "P(A intersect B) = 0.675\n",
    "\n",
    "\"\"\"\n",
    "# I´m not quite sure how to continue with this part."
   ]
  }
 ],
 "metadata": {
  "kernelspec": {
   "display_name": "Python 3",
   "language": "python",
   "name": "python3"
  },
  "language_info": {
   "codemirror_mode": {
    "name": "ipython",
    "version": 3
   },
   "file_extension": ".py",
   "mimetype": "text/x-python",
   "name": "python",
   "nbconvert_exporter": "python",
   "pygments_lexer": "ipython3",
   "version": "3.7.4"
  }
 },
 "nbformat": 4,
 "nbformat_minor": 2
}
